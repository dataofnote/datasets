{
 "cells": [
  {
   "cell_type": "code",
   "execution_count": 23,
   "metadata": {
    "collapsed": true
   },
   "outputs": [],
   "source": [
    "from os import getcwd\n",
    "from pathlib import Path\n",
    "src_path = (Path(getcwd()) / '..' / 'data' / 'wrangled' / 'combined.csv').resolve()"
   ]
  },
  {
   "cell_type": "code",
   "execution_count": 31,
   "metadata": {
    "collapsed": false
   },
   "outputs": [],
   "source": [
    "import pandas as pd"
   ]
  },
  {
   "cell_type": "code",
   "execution_count": 33,
   "metadata": {
    "collapsed": false
   },
   "outputs": [],
   "source": [
    "df = pd.read_csv(src_path, dtype=object)"
   ]
  },
  {
   "cell_type": "markdown",
   "metadata": {},
   "source": [
    "# Licenses by year"
   ]
  },
  {
   "cell_type": "code",
   "execution_count": 44,
   "metadata": {
    "collapsed": false
   },
   "outputs": [
    {
     "data": {
      "text/html": [
       "<div>\n",
       "<table border=\"1\" class=\"dataframe\">\n",
       "  <thead>\n",
       "    <tr style=\"text-align: right;\">\n",
       "      <th>yearmonth</th>\n",
       "      <th>2013-01</th>\n",
       "      <th>2014-01</th>\n",
       "      <th>2015-01</th>\n",
       "      <th>2016-01</th>\n",
       "    </tr>\n",
       "    <tr>\n",
       "      <th>Lic Type</th>\n",
       "      <th></th>\n",
       "      <th></th>\n",
       "      <th></th>\n",
       "      <th></th>\n",
       "    </tr>\n",
       "  </thead>\n",
       "  <tbody>\n",
       "    <tr>\n",
       "      <th>01</th>\n",
       "      <td>51257</td>\n",
       "      <td>54343</td>\n",
       "      <td>55521</td>\n",
       "      <td>55929</td>\n",
       "    </tr>\n",
       "    <tr>\n",
       "      <th>02</th>\n",
       "      <td>7480</td>\n",
       "      <td>7884</td>\n",
       "      <td>8148</td>\n",
       "      <td>8145</td>\n",
       "    </tr>\n",
       "    <tr>\n",
       "      <th>06</th>\n",
       "      <td>2061</td>\n",
       "      <td>2415</td>\n",
       "      <td>2569</td>\n",
       "      <td>2543</td>\n",
       "    </tr>\n",
       "    <tr>\n",
       "      <th>07</th>\n",
       "      <td>7811</td>\n",
       "      <td>9302</td>\n",
       "      <td>10076</td>\n",
       "      <td>10510</td>\n",
       "    </tr>\n",
       "    <tr>\n",
       "      <th>08</th>\n",
       "      <td>858</td>\n",
       "      <td>1031</td>\n",
       "      <td>1129</td>\n",
       "      <td>1148</td>\n",
       "    </tr>\n",
       "    <tr>\n",
       "      <th>09</th>\n",
       "      <td>51</td>\n",
       "      <td>58</td>\n",
       "      <td>65</td>\n",
       "      <td>66</td>\n",
       "    </tr>\n",
       "    <tr>\n",
       "      <th>10</th>\n",
       "      <td>264</td>\n",
       "      <td>273</td>\n",
       "      <td>300</td>\n",
       "      <td>318</td>\n",
       "    </tr>\n",
       "    <tr>\n",
       "      <th>11</th>\n",
       "      <td>175</td>\n",
       "      <td>186</td>\n",
       "      <td>203</td>\n",
       "      <td>216</td>\n",
       "    </tr>\n",
       "  </tbody>\n",
       "</table>\n",
       "</div>"
      ],
      "text/plain": [
       "yearmonth  2013-01  2014-01  2015-01  2016-01\n",
       "Lic Type                                     \n",
       "01           51257    54343    55521    55929\n",
       "02            7480     7884     8148     8145\n",
       "06            2061     2415     2569     2543\n",
       "07            7811     9302    10076    10510\n",
       "08             858     1031     1129     1148\n",
       "09              51       58       65       66\n",
       "10             264      273      300      318\n",
       "11             175      186      203      216"
      ]
     },
     "execution_count": 44,
     "metadata": {},
     "output_type": "execute_result"
    }
   ],
   "source": [
    "pd.pivot_table(df, index=['Lic Type'], columns=['yearmonth'], aggfunc=len, values='year')"
   ]
  },
  {
   "cell_type": "code",
   "execution_count": null,
   "metadata": {
    "collapsed": true
   },
   "outputs": [],
   "source": []
  }
 ],
 "metadata": {
  "kernelspec": {
   "display_name": "Python 3",
   "language": "python",
   "name": "python3"
  },
  "language_info": {
   "codemirror_mode": {
    "name": "ipython",
    "version": 3
   },
   "file_extension": ".py",
   "mimetype": "text/x-python",
   "name": "python",
   "nbconvert_exporter": "python",
   "pygments_lexer": "ipython3",
   "version": "3.5.1"
  }
 },
 "nbformat": 4,
 "nbformat_minor": 0
}
